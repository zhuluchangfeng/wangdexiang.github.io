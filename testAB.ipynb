{
 "cells": [
  {
   "cell_type": "markdown",
   "id": "8813462f",
   "metadata": {},
   "source": [
    "# 二项分布的均值\n",
    "- A~B(1,p)\n",
    "- mean=p \n",
    "- std=p(1-p)\n"
   ]
  },
  {
   "cell_type": "markdown",
   "id": "f8379808",
   "metadata": {},
   "source": [
    "- 检验统计量 **t** 适用于\n",
    "1. 方差相同，\n",
    "2. 近似正太分布\n",
    "- t = (p2-p1)/(p1*(1-p1)/n1+ p2*(1-p2)/n2)**0.5\n",
    "- 显著性水平α=0.05\n",
    "H0：方案一与方案二无显著差别\n",
    "H1：方案一与方案二有显著差别\n",
    "如果|z|>z(α/2），则检验统计量t落入了拒绝域，否定H0,接受H1。\n",
    "反之，则反之。\n"
   ]
  },
  {
   "cell_type": "code",
   "execution_count": 67,
   "id": "9e368cdb",
   "metadata": {},
   "outputs": [],
   "source": [
    "import numpy as np"
   ]
  },
  {
   "cell_type": "code",
   "execution_count": 58,
   "id": "0cb1153b",
   "metadata": {},
   "outputs": [
    {
     "name": "stdout",
     "output_type": "stream",
     "text": [
      "检验统计量z=0.4101323915975314落入了拒绝域z_α=0.3500696652462367.f32，否定H0,接受H1,即方案一与方案二有显著差别\n"
     ]
    }
   ],
   "source": [
    "#双边检验\n",
    "N1,N2=200,200\n",
    "n1,n2=76,80\n",
    "p1,p2=n1/N2,n2/N2\n",
    "z=(p1-p2)/(p1*(1-p1)/N1+p2*(1-p2)/N2)**0.5\n",
    "α=0.05 #显著性水平\n",
    "z=abs(z)\n",
    "z_α=stats.norm.sf(z,α/2)\n",
    "if z>z_α:\n",
    "    print(f'检验统计量z={z}落入了拒绝域z_α={z_α}，否定H0,接受H1,即方案一与方案二有显著差别')\n",
    "else:\n",
    "    print(f'检验统计量z={z}未落入了拒绝域z_α={z_α}，接受H0，即方案一与方案二无显著差别')"
   ]
  },
  {
   "cell_type": "code",
   "execution_count": 53,
   "id": "4d70a4e3",
   "metadata": {},
   "outputs": [
    {
     "data": {
      "text/plain": [
       "0.05263157894736836"
      ]
     },
     "execution_count": 53,
     "metadata": {},
     "output_type": "execute_result"
    }
   ],
   "source": [
    "p2/p1-1\n"
   ]
  },
  {
   "cell_type": "code",
   "execution_count": 10,
   "id": "982bf67e",
   "metadata": {},
   "outputs": [],
   "source": [
    "from scipy import stats"
   ]
  },
  {
   "cell_type": "code",
   "execution_count": 18,
   "id": "13f72fb6",
   "metadata": {},
   "outputs": [
    {
     "data": {
      "text/plain": [
       "0.00368110800917498"
      ]
     },
     "execution_count": 18,
     "metadata": {},
     "output_type": "execute_result"
    }
   ],
   "source": [
    "stats.norm.sf(2.83,0.15)"
   ]
  },
  {
   "cell_type": "markdown",
   "id": "8b82c184",
   "metadata": {},
   "source": [
    "# 异常交易账户检测\n",
    "\n",
    "### 主要特征：\n",
    "- 账户总资产 \n",
    "- 账户股票资产 \n",
    "- 平均每只股票持有仓位  \n",
    "- 持有仓位标准差\n",
    "\n",
    "### 模型建立\n",
    "- 随机森林为特征重要性打分，进行特征筛选\n",
    "- 两类账户的特征重要性存在分布差异\n",
    "- 异常交易账户特点：交易规模大，交易模式复杂\n",
    "- **孪生随机网络**"
   ]
  },
  {
   "cell_type": "code",
   "execution_count": null,
   "id": "34e6a580",
   "metadata": {},
   "outputs": [],
   "source": []
  },
  {
   "cell_type": "code",
   "execution_count": null,
   "id": "ae0ce71a",
   "metadata": {},
   "outputs": [],
   "source": []
  },
  {
   "cell_type": "code",
   "execution_count": null,
   "id": "30bc2640",
   "metadata": {},
   "outputs": [],
   "source": []
  }
 ],
 "metadata": {
  "kernelspec": {
   "display_name": "Python 3 (ipykernel)",
   "language": "python",
   "name": "python3"
  },
  "language_info": {
   "codemirror_mode": {
    "name": "ipython",
    "version": 3
   },
   "file_extension": ".py",
   "mimetype": "text/x-python",
   "name": "python",
   "nbconvert_exporter": "python",
   "pygments_lexer": "ipython3",
   "version": "3.9.12"
  }
 },
 "nbformat": 4,
 "nbformat_minor": 5
}
